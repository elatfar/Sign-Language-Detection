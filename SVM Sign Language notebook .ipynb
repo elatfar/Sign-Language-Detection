{
 "cells": [
  {
   "cell_type": "code",
   "execution_count": 3,
   "metadata": {},
   "outputs": [],
   "source": [
    "import cv2\n",
    "import numpy as np\n",
    "import pickle\n",
    "from matplotlib import pyplot as plt"
   ]
  },
  {
   "cell_type": "code",
   "execution_count": 7,
   "metadata": {},
   "outputs": [],
   "source": [
    "def skin_detection(img):\n",
    "    \n",
    "    skinLow = np.array([0,48,80],np.uint8)\n",
    "    skinHigh = np.array([20,255,255],np.uint8)\n",
    "    img = cv2.GaussianBlur(img,(5,5),0)\n",
    "    imgHSV = cv2.cvtColor(img,cv2.COLOR_BGR2HSV)\n",
    "    mask = cv2.inRange(imgHSV,skinLow,skinHigh)\n",
    "    result = cv2.bitwise_and(img,img,mask=mask)\n",
    "    imgGray = cv2.cvtColor(result,cv2.COLOR_BGR2GRAY)\n",
    "    \n",
    "    return imgGray"
   ]
  },
  {
   "cell_type": "code",
   "execution_count": 8,
   "metadata": {},
   "outputs": [],
   "source": [
    "winSize = (128,128)\n",
    "blockSize = (16,16)\n",
    "blockStride = (4,4)\n",
    "cellSize = (8,8)\n",
    "nbins = 9\n",
    "derivAperture = 1\n",
    "winSigma = -1.\n",
    "histogramNormType = 0\n",
    "L2HysThreshold = 0.2\n",
    "gammaCorrection = 1\n",
    "nlevels = 64\n",
    "\n",
    "hog = cv2.HOGDescriptor(winSize,blockSize,blockStride,cellSize,nbins,\n",
    "                        derivAperture,winSigma,histogramNormType,\n",
    "                        L2HysThreshold,gammaCorrection,nlevels)"
   ]
  },
  {
   "cell_type": "code",
   "execution_count": 13,
   "metadata": {},
   "outputs": [],
   "source": [
    "img = pickle.load(open(\"img_save.p\",\"rb\"))"
   ]
  },
  {
   "cell_type": "code",
   "execution_count": 15,
   "metadata": {},
   "outputs": [],
   "source": [
    "pre = []\n",
    "hog_data = []\n",
    "hog_data_flat = []\n",
    "\n",
    "for n in img:\n",
    "    pre.append(skin_detection(n))\n",
    "for n in pre:\n",
    "    hog_data.append(hog.compute(n))\n",
    "for n in hog_data:\n",
    "    hog_data_flat.append(n.flatten())"
   ]
  },
  {
   "cell_type": "code",
   "execution_count": 16,
   "metadata": {},
   "outputs": [
    {
     "data": {
      "text/plain": [
       "array([0.        , 0.        , 0.        , ..., 0.4300235 , 0.35288692,\n",
       "       0.10567046], dtype=float32)"
      ]
     },
     "execution_count": 16,
     "metadata": {},
     "output_type": "execute_result"
    }
   ],
   "source": [
    "hog_data_flat[0]"
   ]
  },
  {
   "cell_type": "code",
   "execution_count": 23,
   "metadata": {},
   "outputs": [],
   "source": [
    "x = np.float32(hog_data_flat).reshape(-1,30276)\n",
    "y = np.float32(np.repeat(np.arange(24),19)[:,np.newaxis])"
   ]
  },
  {
   "cell_type": "code",
   "execution_count": 31,
   "metadata": {},
   "outputs": [
    {
     "data": {
      "text/plain": [
       "array([0.93478261, 0.76086957, 0.58695652, 0.65217391, 0.76086957,\n",
       "       0.84782609, 0.84444444, 0.91111111, 0.84444444, 0.8       ])"
      ]
     },
     "execution_count": 31,
     "metadata": {},
     "output_type": "execute_result"
    }
   ],
   "source": [
    "from sklearn.model_selection import cross_val_score\n",
    "from sklearn import svm\n",
    "\n",
    "clf = svm.SVC()\n",
    "cross_val = cross_val_score(clf, x, y.ravel(), cv=10)\n",
    "cross_val"
   ]
  },
  {
   "cell_type": "code",
   "execution_count": 32,
   "metadata": {},
   "outputs": [
    {
     "name": "stdout",
     "output_type": "stream",
     "text": [
      "0.7943478260869565\n"
     ]
    }
   ],
   "source": [
    "print(np.mean(cross_val))"
   ]
  },
  {
   "cell_type": "code",
   "execution_count": 52,
   "metadata": {},
   "outputs": [
    {
     "name": "stderr",
     "output_type": "stream",
     "text": [
      "/home/not/.local/lib/python3.6/site-packages/sklearn/metrics/_classification.py:1268: UndefinedMetricWarning: Precision and F-score are ill-defined and being set to 0.0 in labels with no predicted samples. Use `zero_division` parameter to control this behavior.\n",
      "  _warn_prf(average, modifier, msg_start, len(result))\n",
      "/home/not/.local/lib/python3.6/site-packages/sklearn/metrics/_classification.py:1268: UndefinedMetricWarning: Recall and F-score are ill-defined and being set to 0.0 in labels with no true samples. Use `zero_division` parameter to control this behavior.\n",
      "  _warn_prf(average, modifier, msg_start, len(result))\n",
      "/home/not/.local/lib/python3.6/site-packages/sklearn/metrics/_classification.py:1268: UndefinedMetricWarning: Precision and F-score are ill-defined and being set to 0.0 in labels with no predicted samples. Use `zero_division` parameter to control this behavior.\n",
      "  _warn_prf(average, modifier, msg_start, len(result))\n",
      "/home/not/.local/lib/python3.6/site-packages/sklearn/metrics/_classification.py:1268: UndefinedMetricWarning: Recall and F-score are ill-defined and being set to 0.0 in labels with no true samples. Use `zero_division` parameter to control this behavior.\n",
      "  _warn_prf(average, modifier, msg_start, len(result))\n",
      "/home/not/.local/lib/python3.6/site-packages/sklearn/metrics/_classification.py:1268: UndefinedMetricWarning: Precision and F-score are ill-defined and being set to 0.0 in labels with no predicted samples. Use `zero_division` parameter to control this behavior.\n",
      "  _warn_prf(average, modifier, msg_start, len(result))\n",
      "/home/not/.local/lib/python3.6/site-packages/sklearn/metrics/_classification.py:1268: UndefinedMetricWarning: Recall and F-score are ill-defined and being set to 0.0 in labels with no true samples. Use `zero_division` parameter to control this behavior.\n",
      "  _warn_prf(average, modifier, msg_start, len(result))\n",
      "/home/not/.local/lib/python3.6/site-packages/sklearn/metrics/_classification.py:1268: UndefinedMetricWarning: Precision and F-score are ill-defined and being set to 0.0 in labels with no predicted samples. Use `zero_division` parameter to control this behavior.\n",
      "  _warn_prf(average, modifier, msg_start, len(result))\n",
      "/home/not/.local/lib/python3.6/site-packages/sklearn/metrics/_classification.py:1268: UndefinedMetricWarning: Recall and F-score are ill-defined and being set to 0.0 in labels with no true samples. Use `zero_division` parameter to control this behavior.\n",
      "  _warn_prf(average, modifier, msg_start, len(result))\n",
      "/home/not/.local/lib/python3.6/site-packages/sklearn/metrics/_classification.py:1268: UndefinedMetricWarning: Precision and F-score are ill-defined and being set to 0.0 in labels with no predicted samples. Use `zero_division` parameter to control this behavior.\n",
      "  _warn_prf(average, modifier, msg_start, len(result))\n",
      "/home/not/.local/lib/python3.6/site-packages/sklearn/metrics/_classification.py:1268: UndefinedMetricWarning: Recall and F-score are ill-defined and being set to 0.0 in labels with no true samples. Use `zero_division` parameter to control this behavior.\n",
      "  _warn_prf(average, modifier, msg_start, len(result))\n",
      "/home/not/.local/lib/python3.6/site-packages/sklearn/metrics/_classification.py:1268: UndefinedMetricWarning: Precision and F-score are ill-defined and being set to 0.0 in labels with no predicted samples. Use `zero_division` parameter to control this behavior.\n",
      "  _warn_prf(average, modifier, msg_start, len(result))\n",
      "/home/not/.local/lib/python3.6/site-packages/sklearn/metrics/_classification.py:1268: UndefinedMetricWarning: Recall and F-score are ill-defined and being set to 0.0 in labels with no true samples. Use `zero_division` parameter to control this behavior.\n",
      "  _warn_prf(average, modifier, msg_start, len(result))\n",
      "/home/not/.local/lib/python3.6/site-packages/sklearn/metrics/_classification.py:1268: UndefinedMetricWarning: Precision and F-score are ill-defined and being set to 0.0 in labels with no predicted samples. Use `zero_division` parameter to control this behavior.\n",
      "  _warn_prf(average, modifier, msg_start, len(result))\n",
      "/home/not/.local/lib/python3.6/site-packages/sklearn/metrics/_classification.py:1268: UndefinedMetricWarning: Recall and F-score are ill-defined and being set to 0.0 in labels with no true samples. Use `zero_division` parameter to control this behavior.\n",
      "  _warn_prf(average, modifier, msg_start, len(result))\n",
      "/home/not/.local/lib/python3.6/site-packages/sklearn/metrics/_classification.py:1268: UndefinedMetricWarning: Precision and F-score are ill-defined and being set to 0.0 in labels with no predicted samples. Use `zero_division` parameter to control this behavior.\n",
      "  _warn_prf(average, modifier, msg_start, len(result))\n",
      "/home/not/.local/lib/python3.6/site-packages/sklearn/metrics/_classification.py:1268: UndefinedMetricWarning: Recall and F-score are ill-defined and being set to 0.0 in labels with no true samples. Use `zero_division` parameter to control this behavior.\n",
      "  _warn_prf(average, modifier, msg_start, len(result))\n"
     ]
    }
   ],
   "source": [
    "import pandas as pd\n",
    "from sklearn.model_selection import KFold\n",
    "from sklearn.metrics import confusion_matrix\n",
    "from sklearn.metrics import classification_report\n",
    "\n",
    "scores = []\n",
    "clf_report = []\n",
    "conf_x = []\n",
    "y_numbers = []\n",
    "\n",
    "clf_svm = svm.SVC()\n",
    "cv = KFold(n_splits=10,shuffle=True)\n",
    "\n",
    "for train_index, test_index in cv.split(x):\n",
    "\n",
    "    X_train, X_test = x[train_index], x[test_index] \n",
    "    Y_train, Y_test = y[train_index].ravel(), y[test_index].ravel()\n",
    "    \n",
    "    clf_svm.fit(X_train, Y_train)\n",
    "    pred = clf_svm.predict(X_test)\n",
    "    \n",
    "    y_numbers.append(Y_test)\n",
    "    \n",
    "    conf_x.append(confusion_matrix(Y_test, pred))\n",
    "    clf_report.append(classification_report(Y_test,pred))\n",
    "    scores.append(clf_svm.score(X_test, Y_test))"
   ]
  },
  {
   "cell_type": "code",
   "execution_count": 53,
   "metadata": {},
   "outputs": [
    {
     "name": "stdout",
     "output_type": "stream",
     "text": [
      "[0.6956521739130435, 0.6956521739130435, 0.7608695652173914, 0.6521739130434783, 0.7608695652173914, 0.7608695652173914, 0.8444444444444444, 0.7777777777777778, 0.9555555555555556, 0.7777777777777778]\n",
      "\n",
      "\n",
      "0.7681642512077296\n"
     ]
    }
   ],
   "source": [
    "print(scores)\n",
    "print('\\n')\n",
    "print(np.mean(scores))"
   ]
  },
  {
   "cell_type": "code",
   "execution_count": 54,
   "metadata": {},
   "outputs": [
    {
     "name": "stdout",
     "output_type": "stream",
     "text": [
      "              precision    recall  f1-score   support\n",
      "\n",
      "         0.0       1.00      1.00      1.00         3\n",
      "         1.0       0.75      1.00      0.86         3\n",
      "         2.0       0.67      0.67      0.67         3\n",
      "         3.0       0.00      0.00      0.00         1\n",
      "         4.0       1.00      1.00      1.00         3\n",
      "         5.0       1.00      0.67      0.80         3\n",
      "         6.0       1.00      1.00      1.00         2\n",
      "         7.0       1.00      1.00      1.00         3\n",
      "         8.0       1.00      0.67      0.80         3\n",
      "         9.0       1.00      1.00      1.00         1\n",
      "        10.0       1.00      1.00      1.00         2\n",
      "        11.0       0.00      0.00      0.00         3\n",
      "        12.0       0.25      1.00      0.40         1\n",
      "        13.0       0.67      1.00      0.80         2\n",
      "        14.0       0.00      0.00      0.00         0\n",
      "        15.0       0.00      0.00      0.00         2\n",
      "        16.0       0.00      0.00      0.00         0\n",
      "        17.0       1.00      1.00      1.00         3\n",
      "        18.0       1.00      1.00      1.00         2\n",
      "        19.0       0.50      1.00      0.67         1\n",
      "        20.0       1.00      1.00      1.00         1\n",
      "        21.0       1.00      0.67      0.80         3\n",
      "\n",
      "    accuracy                           0.78        45\n",
      "   macro avg       0.67      0.71      0.67        45\n",
      "weighted avg       0.79      0.78      0.77        45\n",
      "\n"
     ]
    }
   ],
   "source": [
    "print(clf_report[7])"
   ]
  },
  {
   "cell_type": "code",
   "execution_count": null,
   "metadata": {},
   "outputs": [],
   "source": []
  }
 ],
 "metadata": {
  "kernelspec": {
   "display_name": "Python 3",
   "language": "python",
   "name": "python3"
  },
  "language_info": {
   "codemirror_mode": {
    "name": "ipython",
    "version": 3
   },
   "file_extension": ".py",
   "mimetype": "text/x-python",
   "name": "python",
   "nbconvert_exporter": "python",
   "pygments_lexer": "ipython3",
   "version": "3.6.9"
  }
 },
 "nbformat": 4,
 "nbformat_minor": 4
}
